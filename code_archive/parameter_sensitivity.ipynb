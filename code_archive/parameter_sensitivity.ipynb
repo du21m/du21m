{
 "cells": [
  {
   "cell_type": "code",
   "execution_count": 1,
   "metadata": {},
   "outputs": [
    {
     "name": "stdout",
     "output_type": "stream",
     "text": [
      "Parameter S1 S1_conf ST ST_conf\n",
      "x1 0.307975 0.061860 0.560137 0.078369\n",
      "x2 0.447767 0.059178 0.438722 0.044492\n",
      "x3 -0.004255 0.055338 0.242845 0.020220\n",
      "\n",
      "Parameter_1 Parameter_2 S2 S2_conf\n",
      "x1 x2 0.012205 0.087168\n",
      "x1 x3 0.251526 0.098482\n",
      "x2 x3 -0.009954 0.067123\n",
      "[ 0.30797549  0.44776661 -0.00425452]\n"
     ]
    }
   ],
   "source": [
    "from SALib.sample import saltelli\n",
    "from SALib.analyze import sobol\n",
    "from SALib.test_functions import Ishigami\n",
    "import numpy as np\n",
    "\n",
    "# Define the model inputs\n",
    "problem = {\n",
    "    'num_vars': 3,\n",
    "    'names': ['x1', 'x2', 'x3'],\n",
    "    'bounds': [[-3.14159265359, 3.14159265359],\n",
    "               [-3.14159265359, 3.14159265359],\n",
    "               [-3.14159265359, 3.14159265359]]\n",
    "}\n",
    "\n",
    "# Generate samples\n",
    "param_values = saltelli.sample(problem, 1000)\n",
    "\n",
    "# Run model (example)\n",
    "Y = Ishigami.evaluate(param_values)\n",
    "\n",
    "# Perform analysis\n",
    "Si = sobol.analyze(problem, Y, print_to_console=True)\n",
    "\n",
    "# Print the first-order sensitivity indices\n",
    "print(Si['S1'])"
   ]
  },
  {
   "cell_type": "code",
   "execution_count": 14,
   "metadata": {},
   "outputs": [
    {
     "name": "stdout",
     "output_type": "stream",
     "text": [
      "Parameter S1 S1_conf ST ST_conf\n",
      "x1 0.307975 0.062721 0.560137 0.088007\n",
      "x2 0.447767 0.051425 0.438722 0.036461\n",
      "x3 -0.004255 0.053971 0.242845 0.025033\n",
      "\n",
      "Parameter_1 Parameter_2 S2 S2_conf\n",
      "x1 x2 0.012205 0.081287\n",
      "x1 x3 0.251526 0.097368\n",
      "x2 x3 -0.009954 0.063173\n",
      "first order sensitivities: [ 0.30797549  0.44776661 -0.00425452]\n",
      "x1-x2: 0.012204615255332063\n",
      "x1-x3: 0.2515257351736557\n",
      "x2-x3: -0.009953919522955124\n"
     ]
    }
   ],
   "source": [
    "problem = {\n",
    "    'num_vars': 3,\n",
    "    'names': ['x1', 'x2', 'x3'],\n",
    "    'bounds': [[-3.14159265359, 3.14159265359],\n",
    "               [-3.14159265359, 3.14159265359],\n",
    "               [-3.14159265359, 3.14159265359]]\n",
    "}\n",
    "param_values = saltelli.sample(problem, 1000)\n",
    "# saltelli sampler generates N*(2D+2) samples, where N is 1000 and D=3 in this example\n",
    "# Y = np.zeros([param_values.shape[0]])\n",
    "# for i,X in enumerate(param_values):\n",
    "#     Y[i] = evaluate_model(X)\n",
    "Y = Ishigami.evaluate(param_values)\n",
    "Si = sobol.analyze(problem, Y,print_to_console=True) # computes first, second, and total-order indices\n",
    "# Si is a Python dict with keys S1, S2, ST, and their corresponding confidence intervals\n",
    "print(\"first order sensitivities:\",Si['S1'])\n",
    "# x1 and x2 have first-order sensitivities, but x3 doesn't\n",
    "print(\"x1-x2:\", Si['S2'][0,1])\n",
    "print(\"x1-x3:\", Si['S2'][0,2])\n",
    "print(\"x2-x3:\", Si['S2'][1,2])"
   ]
  },
  {
   "cell_type": "code",
   "execution_count": null,
   "metadata": {},
   "outputs": [],
   "source": []
  }
 ],
 "metadata": {
  "kernelspec": {
   "display_name": "Python 3",
   "language": "python",
   "name": "python3"
  },
  "language_info": {
   "codemirror_mode": {
    "name": "ipython",
    "version": 3
   },
   "file_extension": ".py",
   "mimetype": "text/x-python",
   "name": "python",
   "nbconvert_exporter": "python",
   "pygments_lexer": "ipython3",
   "version": "3.7.4"
  }
 },
 "nbformat": 4,
 "nbformat_minor": 2
}
